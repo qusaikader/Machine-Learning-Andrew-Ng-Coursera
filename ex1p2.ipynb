{
 "cells": [
  {
   "cell_type": "code",
   "execution_count": 12,
   "metadata": {},
   "outputs": [],
   "source": [
    "#Importing necessary libraries \n",
    "import numpy as np\n",
    "import pandas as pd\n",
    "import matplotlib.pyplot as plt\n"
   ]
  },
  {
   "cell_type": "code",
   "execution_count": 13,
   "metadata": {},
   "outputs": [
    {
     "data": {
      "text/html": [
       "<div>\n",
       "<style scoped>\n",
       "    .dataframe tbody tr th:only-of-type {\n",
       "        vertical-align: middle;\n",
       "    }\n",
       "\n",
       "    .dataframe tbody tr th {\n",
       "        vertical-align: top;\n",
       "    }\n",
       "\n",
       "    .dataframe thead th {\n",
       "        text-align: right;\n",
       "    }\n",
       "</style>\n",
       "<table border=\"1\" class=\"dataframe\">\n",
       "  <thead>\n",
       "    <tr style=\"text-align: right;\">\n",
       "      <th></th>\n",
       "      <th>size</th>\n",
       "      <th>bedrooms</th>\n",
       "      <th>price</th>\n",
       "    </tr>\n",
       "  </thead>\n",
       "  <tbody>\n",
       "    <tr>\n",
       "      <th>0</th>\n",
       "      <td>2104</td>\n",
       "      <td>3</td>\n",
       "      <td>399900</td>\n",
       "    </tr>\n",
       "    <tr>\n",
       "      <th>1</th>\n",
       "      <td>1600</td>\n",
       "      <td>3</td>\n",
       "      <td>329900</td>\n",
       "    </tr>\n",
       "    <tr>\n",
       "      <th>2</th>\n",
       "      <td>2400</td>\n",
       "      <td>3</td>\n",
       "      <td>369000</td>\n",
       "    </tr>\n",
       "    <tr>\n",
       "      <th>3</th>\n",
       "      <td>1416</td>\n",
       "      <td>2</td>\n",
       "      <td>232000</td>\n",
       "    </tr>\n",
       "    <tr>\n",
       "      <th>4</th>\n",
       "      <td>3000</td>\n",
       "      <td>4</td>\n",
       "      <td>539900</td>\n",
       "    </tr>\n",
       "  </tbody>\n",
       "</table>\n",
       "</div>"
      ],
      "text/plain": [
       "   size  bedrooms   price\n",
       "0  2104         3  399900\n",
       "1  1600         3  329900\n",
       "2  2400         3  369000\n",
       "3  1416         2  232000\n",
       "4  3000         4  539900"
      ]
     },
     "execution_count": 13,
     "metadata": {},
     "output_type": "execute_result"
    }
   ],
   "source": [
    "#Importing Data\n",
    "df = pd.read_csv(\"ex1data2.txt\")\n",
    "df.describe() #Gives you a summary of the data so you can understand the data in a better way\n",
    "df.head()  #Show the first 5 entries of the data\n",
    "\n"
   ]
  },
  {
   "cell_type": "code",
   "execution_count": 14,
   "metadata": {},
   "outputs": [
    {
     "data": {
      "text/plain": [
       "Text(0.5, 1.0, 'Size V/S Price')"
      ]
     },
     "execution_count": 14,
     "metadata": {},
     "output_type": "execute_result"
    },
    {
     "data": {
      "image/png": "[encoded data removed]",
      "text/plain": [
       "<Figure size 432x288 with 1 Axes>"
      ]
     },
     "metadata": {
      "needs_background": "light"
     },
     "output_type": "display_data"
    }
   ],
   "source": [
    "#Dividing the data into features and target \n",
    "#A visualization of the data to understand it better\n",
    "x = df[[\"size\",\"bedrooms\"]]\n",
    "y = df[\"price\"]\n",
    "\n",
    "plt.scatter(x[\"size\"],y,c = \"red\",s = 12)\n",
    "plt.xlabel(\"Size of the houses\")\n",
    "plt.ylabel(\"Price of the house\")\n",
    "plt.title(\"Size V/S Price\")\n",
    "\n",
    "\n"
   ]
  },
  {
   "cell_type": "code",
   "execution_count": 15,
   "metadata": {},
   "outputs": [],
   "source": [
    "#Feature Scaling is really important for this problem\n",
    "\n",
    "def NormalizeData(data):\n",
    "    mean=np.mean(data,axis=0)\n",
    "    std=np.std(data,axis=0)\n",
    "    \n",
    "    X = (data - mean)/std\n",
    "    \n",
    "    return X , mean , std\n",
    "\n",
    "\n",
    "x,mean_x,std_x = NormalizeData(x)\n",
    "Y,mean_y,std_y = NormalizeData(y)\n",
    "\n",
    "\n",
    "X = np.column_stack((np.ones((x.shape[0],1)),x))\n",
    "Y = np.resize(Y.to_numpy(), (x.shape[0],1))\n",
    "\n"
   ]
  },
  {
   "cell_type": "code",
   "execution_count": 16,
   "metadata": {},
   "outputs": [],
   "source": [
    "#Initializing Parameters\n",
    "alpha = 0.03\n",
    "iterations = 2000\n",
    "theta  = np.zeros((3,1))"
   ]
  },
  {
   "cell_type": "code",
   "execution_count": 17,
   "metadata": {},
   "outputs": [
    {
     "name": "stdout",
     "output_type": "stream",
     "text": [
      "0.5\n"
     ]
    }
   ],
   "source": [
    "def cost_function(X,Y,theta):\n",
    "    m = X.shape[0]\n",
    "    avg = 1/(2*m)\n",
    "\n",
    "    estimate = np.square(np.dot(X,theta)-Y)\n",
    "    sqr_estimate = np.sum(estimate)\n",
    "    cost = avg * sqr_estimate\n",
    "    return cost\n",
    "\n",
    "print(cost_function(X,Y,theta))"
   ]
  },
  {
   "cell_type": "code",
   "execution_count": 18,
   "metadata": {},
   "outputs": [],
   "source": [
    "def gradient_descent(X,Y,theta,alpha,iterations):\n",
    "    m = X.shape[0]\n",
    "    J_history = []\n",
    "\n",
    "    for i in range(iterations):\n",
    "        hyp = np.dot(X,theta)\n",
    "        prediction = np.dot(X.transpose(),(hyp - Y))\n",
    "        descent =alpha * 1/m * prediction\n",
    "        theta-=descent\n",
    "        J_history.append(cost_function(X,Y,theta))\n",
    "\n",
    "    return J_history\n",
    "\n",
    "J_history = gradient_descent(X,Y,theta,alpha,iterations)"
   ]
  },
  {
   "cell_type": "code",
   "execution_count": 19,
   "metadata": {},
   "outputs": [
    {
     "name": "stdout",
     "output_type": "stream",
     "text": [
      "h(x) = -0.0 + 0.88x1 + -0.05x2\n"
     ]
    },
    {
     "data": {
      "image/png": "[encoded data removed]",
      "text/plain": [
       "<Figure size 432x288 with 1 Axes>"
      ]
     },
     "metadata": {
      "needs_background": "light"
     },
     "output_type": "display_data"
    }
   ],
   "source": [
    "#Visualizing if cost is decreasing or not with iteration to verify gradient descent\n",
    "plt.plot(J_history)\n",
    "plt.title(\"Cost against Iterations\")\n",
    "plt.xlabel(\"Iterations\")\n",
    "plt.ylabel(\"Cost\")\n",
    "\n",
    "#Print the hypothesis equation\n",
    "\n",
    "print(\"h(x) = {} + {}x1 + {}x2\".format((round(theta[0,0],2)),(round(theta[1,0],2)),(round(theta[2,0],2))))"
   ]
  },
  {
   "cell_type": "code",
   "execution_count": 20,
   "metadata": {},
   "outputs": [
    {
     "name": "stdout",
     "output_type": "stream",
     "text": [
      "For size of house = 1650, Number of bedroom = 3, the predicted value of price is $456439.0\n"
     ]
    }
   ],
   "source": [
    "def predict(x,theta):\n",
    "    predictions= np.dot(x,theta)\n",
    "    return predictions[0]\n",
    "\n",
    "x_sample = np.array([1650,3])\n",
    "x_sample = NormalizeData(x_sample)[0]\n",
    "\n",
    "\n",
    "x_sample=np.append(np.ones(1),x_sample)\n",
    "\n",
    "prediction = predict(x_sample,theta)\n",
    "\n",
    "prediction = ((prediction*std_y) + mean_y)\n",
    "print(\"For size of house = 1650, Number of bedroom = 3, the predicted value of price is ${}\".format(round(prediction,0)))"
   ]
  },
  {
   "cell_type": "code",
   "execution_count": null,
   "metadata": {},
   "outputs": [],
   "source": []
  }
 ],
 "metadata": {
  "interpreter": {
   "hash": "b0ed3d4696414b7e0eabbed5f3aa92903506f1d6a54bd8edf013340a9b1a7c3d"
  },
  "kernelspec": {
   "display_name": "Python 3.9.6 64-bit",
   "language": "python",
   "name": "python3"
  },
  "language_info": {
   "codemirror_mode": {
    "name": "ipython",
    "version": 3
   },
   "file_extension": ".py",
   "mimetype": "text/x-python",
   "name": "python",
   "nbconvert_exporter": "python",
   "pygments_lexer": "ipython3",
   "version": "3.9.6"
  },
  "orig_nbformat": 4
 },
 "nbformat": 4,
 "nbformat_minor": 2
}
